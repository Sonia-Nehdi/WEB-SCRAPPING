{
  "nbformat": 4,
  "nbformat_minor": 0,
  "metadata": {
    "colab": {
      "name": "Amazon Web Scraper .ipynb",
      "provenance": [],
      "authorship_tag": "ABX9TyMChHvsipC93dcV08R74s3g",
      "include_colab_link": true
    },
    "kernelspec": {
      "name": "python3",
      "display_name": "Python 3"
    },
    "language_info": {
      "name": "python"
    }
  },
  "cells": [
    {
      "cell_type": "markdown",
      "metadata": {
        "id": "view-in-github",
        "colab_type": "text"
      },
      "source": [
        "<a href=\"https://colab.research.google.com/github/Sonia-Nehdi/WEB-SCRAPPING/blob/main/Amazon_Web_Scraper_.ipynb\" target=\"_parent\"><img src=\"https://colab.research.google.com/assets/colab-badge.svg\" alt=\"Open In Colab\"/></a>"
      ]
    },
    {
      "cell_type": "markdown",
      "source": [
        "Amazon Web Scraper Project Realized by Sonia Nehdi"
      ],
      "metadata": {
        "id": "ulAvyVdATB5T"
      }
    },
    {
      "cell_type": "code",
      "execution_count": 2,
      "metadata": {
        "id": "uc_qZyVWO90A"
      },
      "outputs": [],
      "source": [
        "# import libraries \n",
        "\n",
        "from bs4 import BeautifulSoup\n",
        "import requests\n",
        "import time\n",
        "import datetime\n",
        "\n",
        "import smtplib"
      ]
    },
    {
      "cell_type": "code",
      "source": [
        "pip install requests"
      ],
      "metadata": {
        "colab": {
          "base_uri": "https://localhost:8080/"
        },
        "id": "Mh4w4MTzEZm-",
        "outputId": "51dd8e26-3fcc-45d7-e3b3-67655a15ca21"
      },
      "execution_count": 3,
      "outputs": [
        {
          "output_type": "stream",
          "name": "stdout",
          "text": [
            "Requirement already satisfied: requests in /usr/local/lib/python3.7/dist-packages (2.23.0)\n",
            "Requirement already satisfied: certifi>=2017.4.17 in /usr/local/lib/python3.7/dist-packages (from requests) (2021.10.8)\n",
            "Requirement already satisfied: urllib3!=1.25.0,!=1.25.1,<1.26,>=1.21.1 in /usr/local/lib/python3.7/dist-packages (from requests) (1.24.3)\n",
            "Requirement already satisfied: chardet<4,>=3.0.2 in /usr/local/lib/python3.7/dist-packages (from requests) (3.0.4)\n",
            "Requirement already satisfied: idna<3,>=2.5 in /usr/local/lib/python3.7/dist-packages (from requests) (2.10)\n"
          ]
        }
      ]
    },
    {
      "cell_type": "code",
      "source": [
        "# Connect to Website and pull in data\n",
        "\n",
        "URL = 'https://www.amazon.de/dp/B092TVKG3D/ref=sspa_dk_detail_2%3Fpsc=1&pd_rd_i=B092TVKG3D&pd_rd_w=8UrqN&pf_rd_p=4f2ceb27-95e9-46ab-8808-db390b56ec01&pd_rd_wg=q6Q34&pf_rd_r=F1FRXWV17F6RNE45A83G&pd_rd_r=cb12f57a-9e11-4f0f-9a00-857cad28fd3c&s=kitchen?th=1'\n",
        "headers = {\"User-Agent\": \"Mozilla/5.0 (Windows NT 10.0; Win64; x64) AppleWebKit/537.36 (KHTML, like Gecko) Chrome/78.0.3904.108 Safari/537.36\", \"Accept-Encoding\":\"gzip, deflate\", \"Accept\":\"text/html,application/xhtml+xml,application/xml;q=0.9,*/*;q=0.8\", \"DNT\":\"1\",\"Connection\":\"close\", \"Upgrade-Insecure-Requests\":\"1\"}\n",
        "\n",
        "page = requests.get(URL, headers=headers)\n",
        "\n",
        "soup1 = BeautifulSoup(page.content, \"html.parser\")\n",
        "\n",
        "soup2 = BeautifulSoup(soup1.prettify(), \"html.parser\")\n",
        "\n",
        "title = soup2.find(id='productTitle').get_text()\n",
        "\n",
        "price = soup2.find(id='tp_price_block_total_price_ww').get_text()\n",
        "\n",
        "\n",
        "print(title)\n",
        "print(price)"
      ],
      "metadata": {
        "id": "GYY2Cz9RTAqh",
        "colab": {
          "base_uri": "https://localhost:8080/"
        },
        "outputId": "5ded958c-d671-43b2-c324-d40be2adbdaf"
      },
      "execution_count": 8,
      "outputs": [
        {
          "output_type": "stream",
          "name": "stdout",
          "text": [
            "\n",
            "     Kare Design Deko Figur Sir Horse Standing\n",
            "    \n",
            "\n",
            "\n",
            "                             54,95 €\n",
            "                            \n",
            "\n",
            "\n",
            "\n",
            "\n",
            "                              54\n",
            "                              \n",
            "                               ,\n",
            "                              \n",
            "\n",
            "\n",
            "                              95\n",
            "                             \n",
            "\n",
            "\n"
          ]
        }
      ]
    },
    {
      "cell_type": "code",
      "source": [
        "# Clean up the data\n",
        "\n",
        "price = price.strip()[1:]\n",
        "title = title.strip()\n",
        "\n",
        "print(title)\n",
        "print(price)"
      ],
      "metadata": {
        "colab": {
          "base_uri": "https://localhost:8080/"
        },
        "id": "Eqp5NGKiGHdZ",
        "outputId": "4838d752-de44-447a-bc88-0eabcb1b685e"
      },
      "execution_count": 9,
      "outputs": [
        {
          "output_type": "stream",
          "name": "stdout",
          "text": [
            "Kare Design Deko Figur Sir Horse Standing\n",
            "4,95 €\n",
            "                            \n",
            "\n",
            "\n",
            "\n",
            "\n",
            "                              54\n",
            "                              \n",
            "                               ,\n",
            "                              \n",
            "\n",
            "\n",
            "                              95\n"
          ]
        }
      ]
    },
    {
      "cell_type": "code",
      "source": [
        "# Create a Timestamp for your output to track when data was collected\n",
        "\n",
        "import datetime\n",
        "\n",
        "today = datetime.date.today()\n",
        "\n",
        "print(today)"
      ],
      "metadata": {
        "id": "j9LD0JSoTVD0",
        "colab": {
          "base_uri": "https://localhost:8080/"
        },
        "outputId": "3d81e81a-f1cc-4691-bc2c-2e4d55577e8b"
      },
      "execution_count": 10,
      "outputs": [
        {
          "output_type": "stream",
          "name": "stdout",
          "text": [
            "2022-03-05\n"
          ]
        }
      ]
    },
    {
      "cell_type": "code",
      "source": [
        "# Create CSV and write headers and data into the file\n",
        "\n",
        "import csv \n",
        "\n",
        "header = ['Title', 'Price', 'Date']\n",
        "data = [title, price, today]\n",
        "\n",
        "\n",
        "with open('AmazonWebScraperDataset.csv', 'w', newline='', encoding='UTF8') as f:\n",
        "    writer = csv.writer(f)\n",
        "    writer.writerow(header)\n",
        "    writer.writerow(data)\n",
        "    "
      ],
      "metadata": {
        "id": "fplP3sXpTZFt"
      },
      "execution_count": 13,
      "outputs": []
    },
    {
      "cell_type": "code",
      "source": [
        "import pandas as pd\n",
        "df = pd.read_csv('/content/AmazonWebScraperDataset.csv')\n",
        "\n",
        "print(df)"
      ],
      "metadata": {
        "id": "fWs1H3YnTcMz",
        "colab": {
          "base_uri": "https://localhost:8080/"
        },
        "outputId": "7fba6846-92b3-4af2-c2ba-3c2d0340c544"
      },
      "execution_count": 15,
      "outputs": [
        {
          "output_type": "stream",
          "name": "stdout",
          "text": [
            "                                       Title  \\\n",
            "0  Kare Design Deko Figur Sir Horse Standing   \n",
            "\n",
            "                                               Price        Date  \n",
            "0  4,95 €\\n                            \\n\\n\\n\\n\\n...  2022-03-05  \n"
          ]
        }
      ]
    },
    {
      "cell_type": "code",
      "source": [
        "#Now we are appending data to the csv\n",
        "\n",
        "with open('AmazonWebScraperDataset.csv', 'a+', newline='', encoding='UTF8') as f:\n",
        "    writer = csv.writer(f)\n",
        "    writer.writerow(data)"
      ],
      "metadata": {
        "id": "wADIm2JcTeuP"
      },
      "execution_count": 16,
      "outputs": []
    },
    {
      "cell_type": "code",
      "source": [
        "#Combine all of the above code into one function\n",
        "\n",
        "\n",
        "def check_price():\n",
        "\n",
        "    URL = 'https://www.amazon.de/dp/B092TVKG3D/ref=sspa_dk_detail_2%3Fpsc=1&pd_rd_i=B092TVKG3D&pd_rd_w=8UrqN&pf_rd_p=4f2ceb27-95e9-46ab-8808-db390b56ec01&pd_rd_wg=q6Q34&pf_rd_r=F1FRXWV17F6RNE45A83G&pd_rd_r=cb12f57a-9e11-4f0f-9a00-857cad28fd3c&s=kitchen?th=1'\n",
        "    headers = {\"User-Agent\": \"Mozilla/5.0 (Windows NT 10.0; Win64; x64) AppleWebKit/537.36 (KHTML, like Gecko) Chrome/78.0.3904.108 Safari/537.36\", \"Accept-Encoding\":\"gzip, deflate\", \"Accept\":\"text/html,application/xhtml+xml,application/xml;q=0.9,*/*;q=0.8\", \"DNT\":\"1\",\"Connection\":\"close\", \"Upgrade-Insecure-Requests\":\"1\"}\n",
        "\n",
        "    page = requests.get(URL, headers=headers)\n",
        "\n",
        "    soup1 = BeautifulSoup(page.content, \"html.parser\")\n",
        "\n",
        "    soup2 = BeautifulSoup(soup1.prettify(), \"html.parser\")\n",
        "\n",
        "    title = soup2.find(id='productTitle').get_text()\n",
        "\n",
        "    price = soup2.find(id='tp_price_block_total_price_ww').get_text()\n",
        "\n",
        "    price = price.strip()[1:]\n",
        "    title = title.strip()\n",
        "\n",
        "    import datetime\n",
        "\n",
        "    today = datetime.date.today()\n",
        "    \n",
        "    import csv \n",
        "\n",
        "    header = ['Title', 'Price', 'Date']\n",
        "    data = [title, price, today]\n",
        "\n",
        "    with open('AmazonWebScraperDataset.csv', 'a+', newline='', encoding='UTF8') as f:\n",
        "        writer = csv.writer(f)\n",
        "        writer.writerow(data)\n",
        " "
      ],
      "metadata": {
        "id": "kkvpqO8MThFR"
      },
      "execution_count": 24,
      "outputs": []
    },
    {
      "cell_type": "code",
      "source": [
        "# Runs check_price after a set time and inputs data into  CSV\n",
        "\n",
        "while(True):\n",
        "    check_price()\n",
        "    time.sleep(10)"
      ],
      "metadata": {
        "id": "ocYsPrwDTxWp"
      },
      "execution_count": null,
      "outputs": []
    },
    {
      "cell_type": "code",
      "source": [
        "import pandas as pd\n",
        "\n",
        "df = pd.read_csv('/content/AmazonWebScraperDataset.csv')\n",
        "\n",
        "print(df)"
      ],
      "metadata": {
        "id": "Mf-Du5yGT0EU",
        "colab": {
          "base_uri": "https://localhost:8080/"
        },
        "outputId": "165ba5c0-900e-4269-8bdb-838f275cf709"
      },
      "execution_count": 27,
      "outputs": [
        {
          "output_type": "stream",
          "name": "stdout",
          "text": [
            "                                       Title  \\\n",
            "0  Kare Design Deko Figur Sir Horse Standing   \n",
            "1  Kare Design Deko Figur Sir Horse Standing   \n",
            "2  Kare Design Deko Figur Sir Horse Standing   \n",
            "3  Kare Design Deko Figur Sir Horse Standing   \n",
            "4  Kare Design Deko Figur Sir Horse Standing   \n",
            "5  Kare Design Deko Figur Sir Horse Standing   \n",
            "6  Kare Design Deko Figur Sir Horse Standing   \n",
            "\n",
            "                                               Price        Date  \n",
            "0  4,95 €\\n                            \\n\\n\\n\\n\\n...  2022-03-05  \n",
            "1  4,95 €\\n                            \\n\\n\\n\\n\\n...  2022-03-05  \n",
            "2  4,95 €\\n                            \\n\\n\\n\\n\\n...  2022-03-05  \n",
            "3  4,95 €\\n                            \\n\\n\\n\\n\\n...  2022-03-05  \n",
            "4  4,95 €\\n                            \\n\\n\\n\\n\\n...  2022-03-05  \n",
            "5  4,95 €\\n                            \\n\\n\\n\\n\\n...  2022-03-05  \n",
            "6  4,95 €\\n                            \\n\\n\\n\\n\\n...  2022-03-05  \n"
          ]
        }
      ]
    }
  ]
}